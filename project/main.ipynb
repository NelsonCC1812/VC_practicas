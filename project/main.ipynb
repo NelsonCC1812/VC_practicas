{
 "cells": [
  {
   "cell_type": "markdown",
   "metadata": {},
   "source": [
    "# Imports"
   ]
  },
  {
   "cell_type": "code",
   "execution_count": null,
   "metadata": {},
   "outputs": [],
   "source": [
    "%matplotlib inline\n",
    "\n",
    "import os\n",
    "import pandas as pd\n",
    "import matplotlib as plt\n",
    "\n",
    "import torch\n",
    "import torch.nn as nn\n",
    "import forn.nn.functional as F\n",
    "from torch import optim, transforms\n",
    "from torch.utils.data import Dataset, Dataloader\n",
    "from torchvision.io import read_image, ImageReadMode\n",
    "\n",
    "\n",
    "import sklearn.metrics as metrics\n",
    "from sklearn.model_selection import train_test_split\n",
    "import seaborn as sns"
   ]
  },
  {
   "cell_type": "markdown",
   "metadata": {},
   "source": [
    "# Device"
   ]
  },
  {
   "cell_type": "code",
   "execution_count": null,
   "metadata": {},
   "outputs": [],
   "source": [
    "device = torch.device(\"cuda\" if torch.cuda.is_available() else \"cpu\")\n",
    "\n",
    "print(f\"Torch version: {torch.__version__}\")\n",
    "print(f\"Dispositivo configurado para usar: {device}\")\n",
    "print(torch.cuda.get_device_name(0))"
   ]
  },
  {
   "cell_type": "markdown",
   "metadata": {},
   "source": [
    "# Constants & hiperparams"
   ]
  },
  {
   "cell_type": "code",
   "execution_count": null,
   "metadata": {},
   "outputs": [],
   "source": [
    "# conts ---\n",
    "\n",
    "LABELS = []\n",
    "DIR_PATH = \"data/dataset\"\n",
    "\n",
    "\n",
    "TRAIN_PERCENT = .7\n",
    "VAL_PERCENT = .2\n",
    "TEST_PERCENT = .1\n",
    "RANDOM_STATE = None\n",
    "\n",
    "IMAGE_SIZE = 220\n",
    "BATCH_SIZE = 32\n",
    "\n",
    "\n",
    "# hyperparams ---\n",
    "\n",
    "NUM_EPOCH = 100\n",
    "LEARNING_RATE = .001\n",
    "MOMENTUM = .9\n",
    "EARLY_PATIENCE = 10\n",
    "SCHEDULER_PATIENCE = 6\n",
    "\n",
    "DROPOUTS = [.5, .75]"
   ]
  }
 ],
 "metadata": {
  "language_info": {
   "name": "python"
  }
 },
 "nbformat": 4,
 "nbformat_minor": 2
}
