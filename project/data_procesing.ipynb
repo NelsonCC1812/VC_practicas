{
 "cells": [
  {
   "cell_type": "markdown",
   "metadata": {},
   "source": [
    "# Imports"
   ]
  },
  {
   "cell_type": "code",
   "execution_count": 2,
   "metadata": {},
   "outputs": [],
   "source": [
    "%matplotlib inline\n",
    "\n",
    "from collections import namedtuple\n",
    "\n",
    "import os\n",
    "import pandas as pd\n",
    "import matplotlib as plt\n",
    "from sklearn.model_selection import train_test_split\n",
    "\n",
    "\n",
    "pd.set_option('display.width',1000)"
   ]
  },
  {
   "cell_type": "code",
   "execution_count": null,
   "metadata": {},
   "outputs": [],
   "source": [
    "import torch\n",
    "import torch.nn as nn\n",
    "import torn.nn.functional as F\n",
    "from torch import optim, transforms\n",
    "from torch.utils.data import Dataset, Dataloader\n",
    "from torchvision.io import read_image, ImageReadMode\n",
    "\n",
    "import sklearn.metrics as metrics\n",
    "import seaborn as sns"
   ]
  },
  {
   "cell_type": "markdown",
   "metadata": {},
   "source": [
    "# Device"
   ]
  },
  {
   "cell_type": "code",
   "execution_count": null,
   "metadata": {},
   "outputs": [],
   "source": [
    "device = torch.device(\"cuda\" if torch.cuda.is_available() else \"cpu\")\n",
    "\n",
    "print(f\"> Torch version: {torch.__version__}\")\n",
    "print(f\"> Dispositivo configurado para usar: {device}\")\n",
    "print(torch.cuda.get_device_name(0))"
   ]
  },
  {
   "cell_type": "markdown",
   "metadata": {},
   "source": [
    "# Constants & hiperparams"
   ]
  },
  {
   "cell_type": "code",
   "execution_count": 3,
   "metadata": {},
   "outputs": [],
   "source": [
    "# conts ---\n",
    "\n",
    "LABELS = []\n",
    "DATASETS_PATHS = namedtuple(\"DatasetPath\", \"originals faces norm_faces\")(\n",
    "    \"data/dataset\", \"data/face_images\", \"data/normalized_face_images\")\n",
    "\n",
    "TRAIN_PERCENT = .7\n",
    "VAL_PERCENT = .2\n",
    "TEST_PERCENT = .1\n",
    "RANDOM_STATE = None\n",
    "\n",
    "IMAGE_SIZE = 220\n",
    "BATCH_SIZE = 32\n",
    "\n",
    "\n",
    "# hyperparams ---\n",
    "\n",
    "NUM_EPOCH = 100\n",
    "LEARNING_RATE = .001\n",
    "MOMENTUM = .9\n",
    "EARLY_PATIENCE = 10\n",
    "SCHEDULER_PATIENCE = 6\n",
    "\n",
    "DROPOUTS = [.5, .75]"
   ]
  },
  {
   "cell_type": "markdown",
   "metadata": {},
   "source": [
    "# Data preprocessing"
   ]
  },
  {
   "cell_type": "markdown",
   "metadata": {},
   "source": [
    "## Dataset creation (and adaptation)"
   ]
  },
  {
   "cell_type": "code",
   "execution_count": 4,
   "metadata": {},
   "outputs": [
    {
     "name": "stdout",
     "output_type": "stream",
     "text": [
      "> num elementos: 435\n",
      "> num ids diferentes 29\n",
      "setid\n",
      "0001cc1e1e--61af8513667cba1b47349869    15\n",
      "0001cc1e1e--61af86f374501f072edf6d2c    15\n",
      "0001cc1e1e--61af892e1735844b198f7269    15\n",
      "0001cc1e1e--61af89eea5a19325b68a2801    15\n",
      "0001cc1e1e--61af8a351735844b198f7ade    15\n",
      "0001cc1e1e--61af8aa9d46ff461a71462cc    15\n",
      "0001cc1e1e--61af8b9119bf98074e184806    15\n",
      "0001cc1e1e--61af8bd7667cba1b473506bd    15\n",
      "0001cc1e1e--61af8d2aad9d9c12b4864776    15\n",
      "0001cc1e1e--61af8d4045612c79df65d153    15\n",
      "0001cc1e1e--61af91e464610d607e3a329e    15\n",
      "0001ca9b9a--61aa90111e37d6183d870ea5    15\n",
      "0001ca9b9a--61ab21f4277a1c323b746383    15\n",
      "0001ca9b9a--61ab3a5fd6d182382f20a168    15\n",
      "0001ca9b9a--61ab5c83d6d182382f227ccb    15\n",
      "0001ca9b9a--61ab93399e265a148f85e5d0    15\n",
      "0001ca9b9a--61ab9a5e686e3d72a4be5551    15\n",
      "0001ca9b9a--61abceec4376670967375e12    15\n",
      "0001ca9b9a--61abcfbb45612c79df4dba1f    15\n",
      "0001ca9b9a--61ac93aeed797b7414edf419    15\n",
      "0001ca9b9a--61ac9cfdd211124f5daebd40    15\n",
      "0001ca9b9a--61acd3c5b402c12388930bcf    15\n",
      "0001ca9b9a--61acdab83e0f222c5afd75a2    15\n",
      "0001ca9b9a--61ad04a074501f072eccf903    15\n",
      "0001ca9b9a--61ad4051889fb241713def3a    15\n",
      "0001ca9b9a--61ad582184c9021db9ea19df    15\n",
      "0001ca9b9a--61adf4903e0f222c5a048507    15\n",
      "0001ca9b9a--61af4a11ec7c4619a7c95ddf    15\n",
      "0001ca9b9a--61af51c056ee9447b653e097    15\n",
      "Name: count, dtype: int64\n"
     ]
    },
    {
     "data": {
      "text/html": [
       "<div>\n",
       "<style scoped>\n",
       "    .dataframe tbody tr th:only-of-type {\n",
       "        vertical-align: middle;\n",
       "    }\n",
       "\n",
       "    .dataframe tbody tr th {\n",
       "        vertical-align: top;\n",
       "    }\n",
       "\n",
       "    .dataframe thead th {\n",
       "        text-align: right;\n",
       "    }\n",
       "</style>\n",
       "<table border=\"1\" class=\"dataframe\">\n",
       "  <thead>\n",
       "    <tr style=\"text-align: right;\">\n",
       "      <th></th>\n",
       "      <th>setid</th>\n",
       "      <th>imgid</th>\n",
       "      <th>path</th>\n",
       "    </tr>\n",
       "  </thead>\n",
       "  <tbody>\n",
       "    <tr>\n",
       "      <th>0</th>\n",
       "      <td>0001cc1e1e--61af8513667cba1b47349869</td>\n",
       "      <td>ID_1.jpg</td>\n",
       "      <td>0001cc1e1e--61af8513667cba1b47349869_age_25_na...</td>\n",
       "    </tr>\n",
       "    <tr>\n",
       "      <th>1</th>\n",
       "      <td>0001cc1e1e--61af8513667cba1b47349869</td>\n",
       "      <td>ID_2.jpg</td>\n",
       "      <td>0001cc1e1e--61af8513667cba1b47349869_age_25_na...</td>\n",
       "    </tr>\n",
       "    <tr>\n",
       "      <th>2</th>\n",
       "      <td>0001cc1e1e--61af8513667cba1b47349869</td>\n",
       "      <td>Selfie_1.jpg</td>\n",
       "      <td>0001cc1e1e--61af8513667cba1b47349869_age_25_na...</td>\n",
       "    </tr>\n",
       "    <tr>\n",
       "      <th>3</th>\n",
       "      <td>0001cc1e1e--61af8513667cba1b47349869</td>\n",
       "      <td>Selfie_10.jpg</td>\n",
       "      <td>0001cc1e1e--61af8513667cba1b47349869_age_25_na...</td>\n",
       "    </tr>\n",
       "    <tr>\n",
       "      <th>4</th>\n",
       "      <td>0001cc1e1e--61af8513667cba1b47349869</td>\n",
       "      <td>Selfie_11.jpg</td>\n",
       "      <td>0001cc1e1e--61af8513667cba1b47349869_age_25_na...</td>\n",
       "    </tr>\n",
       "  </tbody>\n",
       "</table>\n",
       "</div>"
      ],
      "text/plain": [
       "                                  setid          imgid                                               path\n",
       "0  0001cc1e1e--61af8513667cba1b47349869       ID_1.jpg  0001cc1e1e--61af8513667cba1b47349869_age_25_na...\n",
       "1  0001cc1e1e--61af8513667cba1b47349869       ID_2.jpg  0001cc1e1e--61af8513667cba1b47349869_age_25_na...\n",
       "2  0001cc1e1e--61af8513667cba1b47349869   Selfie_1.jpg  0001cc1e1e--61af8513667cba1b47349869_age_25_na...\n",
       "3  0001cc1e1e--61af8513667cba1b47349869  Selfie_10.jpg  0001cc1e1e--61af8513667cba1b47349869_age_25_na...\n",
       "4  0001cc1e1e--61af8513667cba1b47349869  Selfie_11.jpg  0001cc1e1e--61af8513667cba1b47349869_age_25_na..."
      ]
     },
     "execution_count": 4,
     "metadata": {},
     "output_type": "execute_result"
    }
   ],
   "source": [
    "dataset = pd.read_csv(os.path.join(DATASETS_PATHS.originals, \"selfie_id.csv\"))\n",
    "dataset.drop(columns=[\"UserRace\", \"Age\",\"Name\"], inplace=True)\n",
    "dataset.rename(columns={\"SetId\": \"setid\", \"FName\": \"imgid\", \"URL\": \"path\"}, inplace=True)\n",
    "\n",
    "print(\"> num elementos:\", dataset.count(axis=1).size)\n",
    "print(\"> num ids diferentes\", len(dataset.setid.unique()))\n",
    "print(dataset.setid.value_counts())\n",
    "dataset.head()"
   ]
  },
  {
   "cell_type": "markdown",
   "metadata": {},
   "source": [
    "## Data balancing"
   ]
  },
  {
   "cell_type": "code",
   "execution_count": 5,
   "metadata": {},
   "outputs": [
    {
     "name": "stdout",
     "output_type": "stream",
     "text": [
      "> Cantidad de imagenes de la setid que menos tiene: 15\n"
     ]
    }
   ],
   "source": [
    "min_set_size = dataset.setid.value_counts().min()\n",
    "print(\"> Cantidad de imagenes de la setid que menos tiene:\", min_set_size)"
   ]
  },
  {
   "cell_type": "code",
   "execution_count": 6,
   "metadata": {},
   "outputs": [
    {
     "name": "stdout",
     "output_type": "stream",
     "text": [
      "> Cantidad de elementos: 435\n",
      "\n",
      "setid\n",
      "0001ca9b9a--61aa90111e37d6183d870ea5    15\n",
      "0001ca9b9a--61ab21f4277a1c323b746383    15\n",
      "0001ca9b9a--61ab3a5fd6d182382f20a168    15\n",
      "0001ca9b9a--61ab5c83d6d182382f227ccb    15\n",
      "0001ca9b9a--61ab93399e265a148f85e5d0    15\n",
      "0001ca9b9a--61ab9a5e686e3d72a4be5551    15\n",
      "0001ca9b9a--61abceec4376670967375e12    15\n",
      "0001ca9b9a--61abcfbb45612c79df4dba1f    15\n",
      "0001ca9b9a--61ac93aeed797b7414edf419    15\n",
      "0001ca9b9a--61ac9cfdd211124f5daebd40    15\n",
      "0001ca9b9a--61acd3c5b402c12388930bcf    15\n",
      "0001ca9b9a--61acdab83e0f222c5afd75a2    15\n",
      "0001ca9b9a--61ad04a074501f072eccf903    15\n",
      "0001ca9b9a--61ad4051889fb241713def3a    15\n",
      "0001ca9b9a--61ad582184c9021db9ea19df    15\n",
      "0001ca9b9a--61adf4903e0f222c5a048507    15\n",
      "0001ca9b9a--61af4a11ec7c4619a7c95ddf    15\n",
      "0001ca9b9a--61af51c056ee9447b653e097    15\n",
      "0001cc1e1e--61af8513667cba1b47349869    15\n",
      "0001cc1e1e--61af86f374501f072edf6d2c    15\n",
      "0001cc1e1e--61af892e1735844b198f7269    15\n",
      "0001cc1e1e--61af89eea5a19325b68a2801    15\n",
      "0001cc1e1e--61af8a351735844b198f7ade    15\n",
      "0001cc1e1e--61af8aa9d46ff461a71462cc    15\n",
      "0001cc1e1e--61af8b9119bf98074e184806    15\n",
      "0001cc1e1e--61af8bd7667cba1b473506bd    15\n",
      "0001cc1e1e--61af8d2aad9d9c12b4864776    15\n",
      "0001cc1e1e--61af8d4045612c79df65d153    15\n",
      "0001cc1e1e--61af91e464610d607e3a329e    15\n",
      "Name: count, dtype: int64\n"
     ]
    },
    {
     "data": {
      "text/html": [
       "<div>\n",
       "<style scoped>\n",
       "    .dataframe tbody tr th:only-of-type {\n",
       "        vertical-align: middle;\n",
       "    }\n",
       "\n",
       "    .dataframe tbody tr th {\n",
       "        vertical-align: top;\n",
       "    }\n",
       "\n",
       "    .dataframe thead th {\n",
       "        text-align: right;\n",
       "    }\n",
       "</style>\n",
       "<table border=\"1\" class=\"dataframe\">\n",
       "  <thead>\n",
       "    <tr style=\"text-align: right;\">\n",
       "      <th></th>\n",
       "      <th>setid</th>\n",
       "      <th>imgid</th>\n",
       "      <th>path</th>\n",
       "    </tr>\n",
       "  </thead>\n",
       "  <tbody>\n",
       "    <tr>\n",
       "      <th>0</th>\n",
       "      <td>0001ca9b9a--61aa90111e37d6183d870ea5</td>\n",
       "      <td>Selfie_10.jpg</td>\n",
       "      <td>0001ca9b9a--61aa90111e37d6183d870ea5_age_34_na...</td>\n",
       "    </tr>\n",
       "    <tr>\n",
       "      <th>1</th>\n",
       "      <td>0001ca9b9a--61aa90111e37d6183d870ea5</td>\n",
       "      <td>Selfie_9.jpg</td>\n",
       "      <td>0001ca9b9a--61aa90111e37d6183d870ea5_age_34_na...</td>\n",
       "    </tr>\n",
       "    <tr>\n",
       "      <th>2</th>\n",
       "      <td>0001ca9b9a--61aa90111e37d6183d870ea5</td>\n",
       "      <td>Selfie_1.jpg</td>\n",
       "      <td>0001ca9b9a--61aa90111e37d6183d870ea5_age_34_na...</td>\n",
       "    </tr>\n",
       "    <tr>\n",
       "      <th>3</th>\n",
       "      <td>0001ca9b9a--61aa90111e37d6183d870ea5</td>\n",
       "      <td>Selfie_3.jpg</td>\n",
       "      <td>0001ca9b9a--61aa90111e37d6183d870ea5_age_34_na...</td>\n",
       "    </tr>\n",
       "    <tr>\n",
       "      <th>4</th>\n",
       "      <td>0001ca9b9a--61aa90111e37d6183d870ea5</td>\n",
       "      <td>Selfie_11.jpg</td>\n",
       "      <td>0001ca9b9a--61aa90111e37d6183d870ea5_age_34_na...</td>\n",
       "    </tr>\n",
       "  </tbody>\n",
       "</table>\n",
       "</div>"
      ],
      "text/plain": [
       "                                  setid          imgid                                               path\n",
       "0  0001ca9b9a--61aa90111e37d6183d870ea5  Selfie_10.jpg  0001ca9b9a--61aa90111e37d6183d870ea5_age_34_na...\n",
       "1  0001ca9b9a--61aa90111e37d6183d870ea5   Selfie_9.jpg  0001ca9b9a--61aa90111e37d6183d870ea5_age_34_na...\n",
       "2  0001ca9b9a--61aa90111e37d6183d870ea5   Selfie_1.jpg  0001ca9b9a--61aa90111e37d6183d870ea5_age_34_na...\n",
       "3  0001ca9b9a--61aa90111e37d6183d870ea5   Selfie_3.jpg  0001ca9b9a--61aa90111e37d6183d870ea5_age_34_na...\n",
       "4  0001ca9b9a--61aa90111e37d6183d870ea5  Selfie_11.jpg  0001ca9b9a--61aa90111e37d6183d870ea5_age_34_na..."
      ]
     },
     "execution_count": 6,
     "metadata": {},
     "output_type": "execute_result"
    }
   ],
   "source": [
    "# Although is not necesary in this case, I want to create a code usable in other cases (maybe i change my dataset)\n",
    "dataset = pd.DataFrame(dataset.groupby(\"setid\")[dataset.columns].apply(lambda setid: setid.sample(min_set_size, random_state=RANDOM_STATE)).reset_index(drop=True))\n",
    "\n",
    "print(\"> Cantidad de elementos:\", dataset.count(axis=1).size, end='\\n\\n')\n",
    "print(dataset.setid.value_counts())\n",
    "dataset.head()"
   ]
  },
  {
   "cell_type": "markdown",
   "metadata": {},
   "source": [
    "## Save / load preprocessed database"
   ]
  },
  {
   "cell_type": "markdown",
   "metadata": {},
   "source": [
    "### Save database"
   ]
  },
  {
   "cell_type": "code",
   "execution_count": 7,
   "metadata": {},
   "outputs": [],
   "source": [
    "dataset.to_csv(os.path.join(DATASETS_PATHS.originals, 'dataset.csv'), index=False)"
   ]
  },
  {
   "cell_type": "markdown",
   "metadata": {},
   "source": [
    "### Load database"
   ]
  },
  {
   "cell_type": "code",
   "execution_count": 8,
   "metadata": {},
   "outputs": [
    {
     "data": {
      "text/html": [
       "<div>\n",
       "<style scoped>\n",
       "    .dataframe tbody tr th:only-of-type {\n",
       "        vertical-align: middle;\n",
       "    }\n",
       "\n",
       "    .dataframe tbody tr th {\n",
       "        vertical-align: top;\n",
       "    }\n",
       "\n",
       "    .dataframe thead th {\n",
       "        text-align: right;\n",
       "    }\n",
       "</style>\n",
       "<table border=\"1\" class=\"dataframe\">\n",
       "  <thead>\n",
       "    <tr style=\"text-align: right;\">\n",
       "      <th></th>\n",
       "      <th>setid</th>\n",
       "      <th>imgid</th>\n",
       "      <th>path</th>\n",
       "    </tr>\n",
       "  </thead>\n",
       "  <tbody>\n",
       "    <tr>\n",
       "      <th>0</th>\n",
       "      <td>0001ca9b9a--61aa90111e37d6183d870ea5</td>\n",
       "      <td>Selfie_10.jpg</td>\n",
       "      <td>0001ca9b9a--61aa90111e37d6183d870ea5_age_34_na...</td>\n",
       "    </tr>\n",
       "    <tr>\n",
       "      <th>1</th>\n",
       "      <td>0001ca9b9a--61aa90111e37d6183d870ea5</td>\n",
       "      <td>Selfie_9.jpg</td>\n",
       "      <td>0001ca9b9a--61aa90111e37d6183d870ea5_age_34_na...</td>\n",
       "    </tr>\n",
       "    <tr>\n",
       "      <th>2</th>\n",
       "      <td>0001ca9b9a--61aa90111e37d6183d870ea5</td>\n",
       "      <td>Selfie_1.jpg</td>\n",
       "      <td>0001ca9b9a--61aa90111e37d6183d870ea5_age_34_na...</td>\n",
       "    </tr>\n",
       "    <tr>\n",
       "      <th>3</th>\n",
       "      <td>0001ca9b9a--61aa90111e37d6183d870ea5</td>\n",
       "      <td>Selfie_3.jpg</td>\n",
       "      <td>0001ca9b9a--61aa90111e37d6183d870ea5_age_34_na...</td>\n",
       "    </tr>\n",
       "    <tr>\n",
       "      <th>4</th>\n",
       "      <td>0001ca9b9a--61aa90111e37d6183d870ea5</td>\n",
       "      <td>Selfie_11.jpg</td>\n",
       "      <td>0001ca9b9a--61aa90111e37d6183d870ea5_age_34_na...</td>\n",
       "    </tr>\n",
       "  </tbody>\n",
       "</table>\n",
       "</div>"
      ],
      "text/plain": [
       "                                  setid          imgid                                               path\n",
       "0  0001ca9b9a--61aa90111e37d6183d870ea5  Selfie_10.jpg  0001ca9b9a--61aa90111e37d6183d870ea5_age_34_na...\n",
       "1  0001ca9b9a--61aa90111e37d6183d870ea5   Selfie_9.jpg  0001ca9b9a--61aa90111e37d6183d870ea5_age_34_na...\n",
       "2  0001ca9b9a--61aa90111e37d6183d870ea5   Selfie_1.jpg  0001ca9b9a--61aa90111e37d6183d870ea5_age_34_na...\n",
       "3  0001ca9b9a--61aa90111e37d6183d870ea5   Selfie_3.jpg  0001ca9b9a--61aa90111e37d6183d870ea5_age_34_na...\n",
       "4  0001ca9b9a--61aa90111e37d6183d870ea5  Selfie_11.jpg  0001ca9b9a--61aa90111e37d6183d870ea5_age_34_na..."
      ]
     },
     "execution_count": 8,
     "metadata": {},
     "output_type": "execute_result"
    }
   ],
   "source": [
    "dataset = pd.read_csv(os.path.join(DATASETS_PATHS.originals, 'dataset.csv'))\n",
    "dataset.head()"
   ]
  },
  {
   "cell_type": "markdown",
   "metadata": {},
   "source": [
    "## Data slicing in training, validation and tests groups"
   ]
  },
  {
   "cell_type": "code",
   "execution_count": 9,
   "metadata": {},
   "outputs": [
    {
     "name": "stdout",
     "output_type": "stream",
     "text": [
      "> train 304 0.6988505747126437\n",
      "> val 87 0.2\n",
      "> test 44 0.10114942528735632\n"
     ]
    }
   ],
   "source": [
    "train_dataset, tmp = train_test_split(dataset, train_size=TRAIN_PERCENT, stratify=dataset.setid, shuffle=True, random_state=RANDOM_STATE)\n",
    "val_dataset, test_dataset = train_test_split(tmp, test_size=TEST_PERCENT/(TEST_PERCENT+VAL_PERCENT), stratify=tmp.setid, shuffle=True, random_state=RANDOM_STATE)\n",
    "\n",
    "print(\"> train\", train_dataset.count(axis=1).size, train_dataset.count(axis=1).size/dataset.count(axis=1).size)\n",
    "print(\"> val\", val_dataset.count(axis=1).size, val_dataset.count(axis=1).size/dataset.count(axis=1).size)\n",
    "print(\"> test\", test_dataset.count(axis=1).size, test_dataset.count(axis=1).size/dataset.count(axis=1).size)"
   ]
  },
  {
   "cell_type": "code",
   "execution_count": 10,
   "metadata": {},
   "outputs": [
    {
     "name": "stdout",
     "output_type": "stream",
     "text": [
      "path\n",
      "False    304\n",
      "Name: count, dtype: int64\n",
      "\n",
      "path\n",
      "False    304\n",
      "Name: count, dtype: int64\n",
      "\n",
      "path\n",
      "False    87\n",
      "Name: count, dtype: int64\n",
      "\n"
     ]
    }
   ],
   "source": [
    "print((train_dataset.path.isin(test_dataset.path) == True).value_counts(), end='\\n\\n')\n",
    "print((train_dataset.path.isin(val_dataset.path) == True).value_counts(), end='\\n\\n')\n",
    "print((val_dataset.path.isin(test_dataset.path) == True).value_counts(), end='\\n\\n')"
   ]
  },
  {
   "cell_type": "markdown",
   "metadata": {},
   "source": [
    "## Save / load datasets slices (train, val, test)"
   ]
  },
  {
   "cell_type": "markdown",
   "metadata": {},
   "source": [
    "## Save"
   ]
  },
  {
   "cell_type": "code",
   "execution_count": 11,
   "metadata": {},
   "outputs": [],
   "source": [
    "train_dataset.to_csv(os.path.join(DATASETS_PATHS.originals, 'train_dataset.csv'), index=False)\n",
    "val_dataset.to_csv(os.path.join(DATASETS_PATHS.originals, 'val_dataset.csv'), index=False)\n",
    "test_dataset.to_csv(os.path.join(DATASETS_PATHS.originals, 'test_dataset.csv'), index=False)"
   ]
  },
  {
   "cell_type": "markdown",
   "metadata": {},
   "source": [
    "## Load"
   ]
  },
  {
   "cell_type": "code",
   "execution_count": 12,
   "metadata": {},
   "outputs": [],
   "source": [
    "train_dataset = pd.read_csv(os.path.join(DATASETS_PATHS.originals, 'train_dataset.csv'))\n",
    "val_dataset = pd.read_csv(os.path.join(DATASETS_PATHS.originals, 'val_dataset.csv'))\n",
    "test_dataset = pd.read_csv(os.path.join(DATASETS_PATHS.originals, 'test_dataset.csv'))"
   ]
  }
 ],
 "metadata": {
  "kernelspec": {
   "display_name": "vc",
   "language": "python",
   "name": "python3"
  },
  "language_info": {
   "codemirror_mode": {
    "name": "ipython",
    "version": 3
   },
   "file_extension": ".py",
   "mimetype": "text/x-python",
   "name": "python",
   "nbconvert_exporter": "python",
   "pygments_lexer": "ipython3",
   "version": "3.11.5"
  }
 },
 "nbformat": 4,
 "nbformat_minor": 2
}
