{
 "cells": [
  {
   "cell_type": "markdown",
   "metadata": {},
   "source": [
    "# Imports"
   ]
  },
  {
   "cell_type": "code",
   "execution_count": 19,
   "metadata": {},
   "outputs": [],
   "source": [
    "import cv2\n",
    "import numpy as np\n",
    "from deepface import DeepFace\n",
    "\n",
    "from collections import namedtuple"
   ]
  },
  {
   "cell_type": "code",
   "execution_count": 3,
   "metadata": {},
   "outputs": [],
   "source": [
    "font = namedtuple('Font', 'pos font fontScale color thickness')\\\n",
    "        ((50,50), cv2.FONT_HERSHEY_SIMPLEX, 1, (255,0,0), 2)"
   ]
  },
  {
   "cell_type": "code",
   "execution_count": null,
   "metadata": {},
   "outputs": [],
   "source": [
    "# control vars\n",
    "DEBUG_MODE = False\n",
    "\n",
    "CAP_FACE_PROPORTION = 1.2\n",
    "CAP_POSITION = 1.5\n",
    "\n",
    "XOF = 0\n",
    "YOF = .8"
   ]
  },
  {
   "cell_type": "code",
   "execution_count": 117,
   "metadata": {},
   "outputs": [
    {
     "data": {
      "text/plain": [
       "-1"
      ]
     },
     "execution_count": 117,
     "metadata": {},
     "output_type": "execute_result"
    }
   ],
   "source": [
    "cap = cv2.imread('images/cap.png', cv2.IMREAD_UNCHANGED)\n",
    "cap_prop = len(cap[0])/len(cap)\n",
    "\n",
    "vid = cv2.VideoCapture(0)\n",
    "\n",
    "while(True):\n",
    "    \n",
    "\tret, frame = vid.read()\n",
    "\tif not ret: break\n",
    "\n",
    "\tfaces = DeepFace.extract_faces(frame, enforce_detection=False, detector_backend='mtcnn')\n",
    "\n",
    "\tfor face in faces:\n",
    "\n",
    "\t\tx = face[\"facial_area\"][\"x\"]\n",
    "\t\ty = face[\"facial_area\"][\"y\"]\n",
    "\t\tw = face[\"facial_area\"][\"w\"]\n",
    "\t\th = face[\"facial_area\"][\"h\"]\n",
    "\n",
    "\t\tleye = face[\"facial_area\"][\"left_eye\"]\n",
    "\t\treye = face[\"facial_area\"][\"right_eye\"]\n",
    "\n",
    "\t\tconfidence = face[\"confidence\"]\n",
    "\n",
    "\t\tif DEBUG_MODE:\n",
    "\t\t\tcv2.rectangle(frame, (x, y), (x+w, y+h), (255, 0, 0), 2, cv2.LINE_AA)\n",
    "\t\t\tcv2.putText(frame, f\"{confidence:.2f}\", (x, y), font.font, font.fontScale, font.color, font.thickness, cv2.LINE_AA)\n",
    "\n",
    "\t\t\tcv2.circle(frame, leye, 2, (0, 0, 255), -1)\n",
    "\t\t\tcv2.circle(frame, reye, 2, (0, 0, 255), -1)\n",
    "\t\t\n",
    "\t\t\n",
    "\t\tcap = cv2.resize(cap, (int(w*CAP_FACE_PROPORTION), int(w*CAP_FACE_PROPORTION*cap_prop)))\n",
    "\n",
    "\t\ttry:\n",
    "\t\t\talpha = cap[:,:,3]\n",
    "\t\t\trgb = cap[:,:,:3]\n",
    "\n",
    "\t\t\ty1, y2 = y, y + cap.shape[0]\n",
    "\t\t\tx1, x2 = x, x + cap.shape[1]\n",
    "\t\t\troi = frame[y1-int(h*YOF):y2-int(h*YOF), x1-int(w*XOF):x2-int(w*XOF)]\n",
    "\n",
    "\t\t\tmask = cv2.merge([alpha, alpha, alpha])/255.0\n",
    "\n",
    "\t\t\troi = roi * (1.0-mask) + rgb * mask\n",
    "\t\t\t\n",
    "\t\t\tframe[y1-int(h*YOF):y2-int(h*YOF), x1-int(w*XOF):x2-int(w*XOF)] = roi\n",
    "\t\t\n",
    "\t\texcept: pass\n",
    "\t\n",
    "\tcv2.imshow('Webcam', frame)\n",
    "\n",
    "\tif cv2.waitKey(20) == 27: break\n",
    "\n",
    "vid.release()\n",
    "cv2.destroyAllWindows()\n",
    "cv2.waitKey(1)"
   ]
  }
 ],
 "metadata": {
  "kernelspec": {
   "display_name": "VC_P5",
   "language": "python",
   "name": "python3"
  },
  "language_info": {
   "codemirror_mode": {
    "name": "ipython",
    "version": 3
   },
   "file_extension": ".py",
   "mimetype": "text/x-python",
   "name": "python",
   "nbconvert_exporter": "python",
   "pygments_lexer": "ipython3",
   "version": "3.11.5"
  }
 },
 "nbformat": 4,
 "nbformat_minor": 2
}
