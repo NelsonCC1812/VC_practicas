{
 "cells": [
  {
   "cell_type": "markdown",
   "metadata": {},
   "source": [
    "# Imports"
   ]
  },
  {
   "cell_type": "code",
   "execution_count": 1,
   "metadata": {},
   "outputs": [],
   "source": [
    "import cv2\n",
    "import math\n",
    "import numpy as np\n",
    "from collections import (defaultdict, namedtuple)"
   ]
  },
  {
   "cell_type": "code",
   "execution_count": 2,
   "metadata": {},
   "outputs": [],
   "source": [
    "from ultralytics import YOLO"
   ]
  },
  {
   "cell_type": "code",
   "execution_count": 3,
   "metadata": {},
   "outputs": [],
   "source": [
    "import easyocr"
   ]
  },
  {
   "cell_type": "markdown",
   "metadata": {},
   "source": [
    "# Constants"
   ]
  },
  {
   "cell_type": "code",
   "execution_count": 4,
   "metadata": {},
   "outputs": [],
   "source": [
    "ALL_TAGS = [\"person\", \"bicycle\", \"car\", \"motorbike\", \"aeroplane\", \"bus\", \"train\", \"truck\", \"boat\", \"traffic light\", \"fire hydrant\", \"stop sign\", \"parking meter\", \"bench\", \"bird\", \"cat\", \"dog\", \"horse\", \"sheep\", \"cow\", \"elephant\", \"bear\", \"zebra\", \"giraffe\", \"backpack\", \"umbrella\", \"handbag\", \"tie\", \"suitcase\", \"frisbee\", \"skis\", \"snowboard\", \"sports ball\", \"kite\", \"baseball bat\", \"baseball glove\", \"skateboard\", \"surfboard\", \"tennis racket\", \"bottle\", \"wine glass\", \"cup\", \"fork\", \"knife\", \"spoon\", \"bowl\", \"banana\", \"apple\", \"sandwich\", \"orange\", \"broccoli\", \"carrot\", \"hot dog\", \"pizza\", \"donut\", \"cake\", \"chair\", \"sofa\", \"pottedplant\", \"bed\", \"diningtable\", \"toilet\", \"tvmonitor\", \"laptop\", \"mouse\", \"remote\", \"keyboard\", \"cell phone\", \"microwave\", \"oven\", \"toaster\", \"sink\", \"refrigerator\", \"book\", \"clock\", \"vase\", \"scissors\", \"teddy bear\", \"hair drier\", \"toothbrush\"]\n",
    "TAGS = [\"person\", \"bicycle\", \"car\", \"motorbike\", \"aeroplane\", \"bus\", \"train\", \"truck\", \"boat\" ]\n",
    "TAGS_IDXS = [ALL_TAGS.index(elm) for elm in TAGS]\n",
    "\n",
    "MODEL_FN = 'yolo11n.pt'\n",
    "MODEL_LP_FN = 'yolo11n-license_plate.pt'\n",
    "VIDEO_FN = \"C0142.MP4\"\n",
    "\n",
    "OUTPUT_VIDEO_FN = \"output.mp4\"\n",
    "OUTPUT_DATA_FN = \"output.csv\"\n",
    "\n",
    "CSV_HEAD = \"fotograma,tipo_objeto,confianza,identificador_tracking,x1,y1,x2,y2,matrícula_en_su_caso,confianza_matricula,mx1,my1,mx2,my2,texto_matricula\"\n",
    "\n",
    "Entry = namedtuple('Entry', CSV_HEAD)\n",
    "Entry.__str__ = lambda self: \",\".join([str(self._asdict()[field]) for field in self._fields])"
   ]
  },
  {
   "cell_type": "code",
   "execution_count": 5,
   "metadata": {},
   "outputs": [],
   "source": [
    "model = YOLO(MODEL_FN)"
   ]
  },
  {
   "cell_type": "code",
   "execution_count": 6,
   "metadata": {},
   "outputs": [],
   "source": [
    "model_lp = YOLO(MODEL_LP_FN)"
   ]
  },
  {
   "cell_type": "code",
   "execution_count": 7,
   "metadata": {},
   "outputs": [
    {
     "name": "stderr",
     "output_type": "stream",
     "text": [
      "Neither CUDA nor MPS are available - defaulting to CPU. Note: This module is much faster with a GPU.\n"
     ]
    }
   ],
   "source": [
    "ocr = easyocr.Reader(['es'])"
   ]
  },
  {
   "cell_type": "markdown",
   "metadata": {},
   "source": [
    "# Work"
   ]
  },
  {
   "cell_type": "code",
   "execution_count": 8,
   "metadata": {},
   "outputs": [
    {
     "name": "stderr",
     "output_type": "stream",
     "text": [
      "2024-10-29 23:58:58.173 python[91357:2371664] +[IMKClient subclass]: chose IMKClient_Legacy\n",
      "2024-10-29 23:58:58.174 python[91357:2371664] +[IMKInputSession subclass]: chose IMKInputSession_Legacy\n"
     ]
    },
    {
     "data": {
      "text/plain": [
       "-1"
      ]
     },
     "execution_count": 8,
     "metadata": {},
     "output_type": "execute_result"
    }
   ],
   "source": [
    "\n",
    "\n",
    "vid = cv2.VideoCapture(VIDEO_FN)\n",
    "\n",
    "\n",
    "out = cv2.VideoWriter('output.mp4', cv2.VideoWriter_fourcc(*'mp4v'), vid.get(cv2.CAP_PROP_FPS), \n",
    "                      (int(vid.get(cv2.CAP_PROP_FRAME_WIDTH)), int(vid.get(cv2.CAP_PROP_FRAME_HEIGHT))))\n",
    "\n",
    "entries = []\n",
    "frame_id = 0\n",
    "\n",
    "lpbox, lptext, lpprob = None, None, None\n",
    "lpx1, lpy1, lpx2, lpy2 = None, None, None, None\n",
    "\n",
    "while True:\n",
    "    ret, img = vid.read()\n",
    "\n",
    "    if ret:\n",
    "\n",
    "        frame_id+=1\n",
    "        results = model.track(img, persist=True, classes=TAGS_IDXS, verbose=False)\n",
    "\n",
    "\n",
    "        for r in results:\n",
    "            for box in r.boxes:\n",
    "\n",
    "                # container\n",
    "                x1, y1, x2, y2 = box.xyxy[0]\n",
    "                x1, y1, x2, y2 = int(x1), int(y1), int(x2), int(y2)\n",
    "\n",
    "                # tracking id\n",
    "                if box.id is not None: track_id = str(int(box.id[0]))\n",
    "                else: track_id = ''\n",
    "\n",
    "                # confidence\n",
    "                confidence = math.ceil(box.conf[0]*100)/100\n",
    "\n",
    "                # class\n",
    "                cls = int(box.cls[0])\n",
    "                classname = ALL_TAGS[cls]\n",
    "\n",
    "                # class id to RGB color\n",
    "                scale = int((cls/len(TAGS)) * 255 * 3)\n",
    "                if scale >= 255 * 2:    R, G, B = 255, 255, scale - 255*2\n",
    "                elif scale >= 255:      R, G, B = 255, scale - 255, 0\n",
    "                else:                   R, G, B = scale, 0, 0\n",
    "\n",
    "\n",
    "                # vehicle with lp\n",
    "                if cls == 2 or cls == 3 or cls == 5:\n",
    "\n",
    "                    subimg = img[y1:y2,x1:x2]\n",
    "                    lpresult = model_lp(subimg,  verbose=False)\n",
    "    \n",
    "                    if len(lpresult) > 0 and len(lpresult[0].boxes.cpu()) > 0:\n",
    "\n",
    "                        lpbox = lpresult[0].boxes[0]\n",
    "\n",
    "                        # container\n",
    "                        lpx1, lpy1, lpx2, lpy2 = lpbox.xyxy[0]\n",
    "                        lpx1, lpy1, lpx2, lpy2 = int(lpx1), int(lpy1), int(lpx2), int(lpy2)\n",
    "\n",
    "                        if lpy1 < lpy2 and lpx1 < lpx2:\n",
    "                            lpimg = subimg[lpy1:lpy2,lpx1:lpx2]\n",
    "                            cv2.imshow(\"lp\", lpimg)\n",
    "\n",
    "                            ocr_res = ocr.recognize(lpimg, allowlist=\"ABCDEFGHIJKLMNOPQRSTUVWXYZ0123456789\")\n",
    "                            if len(ocr_res) > 0: lpbox, lptext, lpprob = ocr_res[0]\n",
    "\n",
    "                            cv2.rectangle(img, (x1+lpx1, y1+lpy1), (x1+lpx2, y1+lpy2), (255, 0, 0), 3)\n",
    "                        \n",
    "                        \n",
    "                # add entry\n",
    "                entries.append(Entry(frame_id, classname, confidence, track_id, x1, y1, x2, y2,\n",
    "                                               \"MATRICULA\", \n",
    "                                                lpprob if lptext else None,\n",
    "                                                x1+lpx1 if lptext else None,\n",
    "                                                y1+lpy1 if lptext else None, \n",
    "                                                x1+lpx2 if lptext else None,\n",
    "                                                y1+lpy2 if lptext else None, \n",
    "                                                lptext if lptext else None))\n",
    "                \n",
    "                lptext = None\n",
    "\n",
    "                # show on img\n",
    "                cv2.rectangle(img, (x1, y1), (x2, y2), (R, G, B), 3)\n",
    "                cv2.putText(img, f'{track_id} {classname}', [x1, y1], cv2.FONT_HERSHEY_SIMPLEX, 1, (100, 255, B), 3)\n",
    "\n",
    "\n",
    "        cv2.imshow(\"Video\", img)\n",
    "        out.write(img)\n",
    "\n",
    "    if cv2.waitKey(10) == 27: break\n",
    "\n",
    "with open('output.csv', 'w') as file:\n",
    "    file.write(CSV_HEAD + '\\n')\n",
    "    for entry in entries:\n",
    "        file.write(str(entry) + '\\n')\n",
    "\n",
    "\n",
    "out.release()\n",
    "vid.release()\n",
    "cv2.destroyAllWindows()\n",
    "cv2.waitKey(1)"
   ]
  }
 ],
 "metadata": {
  "kernelspec": {
   "display_name": "VC_P1",
   "language": "python",
   "name": "python3"
  },
  "language_info": {
   "codemirror_mode": {
    "name": "ipython",
    "version": 3
   },
   "file_extension": ".py",
   "mimetype": "text/x-python",
   "name": "python",
   "nbconvert_exporter": "python",
   "pygments_lexer": "ipython3",
   "version": "3.11.5"
  }
 },
 "nbformat": 4,
 "nbformat_minor": 2
}
